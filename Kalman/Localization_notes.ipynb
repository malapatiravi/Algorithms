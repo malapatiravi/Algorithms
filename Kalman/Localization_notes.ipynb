{
 "cells": [
  {
   "cell_type": "code",
   "execution_count": 5,
   "metadata": {},
   "outputs": [
    {
     "name": "stdout",
     "output_type": "stream",
     "text": [
      "0.12098536226\n"
     ]
    }
   ],
   "source": [
    "from math import *\n",
    "\n",
    "def f(mu, sigma2, x):\n",
    "    return 1/sqrt(2.*pi*sigma2) * exp(-.5*(x-mu)**2/sigma2)\n",
    "print f(10., 4., 8.)"
   ]
  },
  {
   "cell_type": "code",
   "execution_count": 1,
   "metadata": {},
   "outputs": [
    {
     "name": "stdout",
     "output_type": "stream",
     "text": [
      "[0.2, 0.2, 0.2, 0.2, 0.2]\n"
     ]
    }
   ],
   "source": [
    "p =[0.2, 0.2, 0.2, 0.2, 0.2] # p is uniform distribution. \n",
    "n =5\n",
    "print p"
   ]
  },
  {
   "cell_type": "code",
   "execution_count": 8,
   "metadata": {},
   "outputs": [
    {
     "name": "stdout",
     "output_type": "stream",
     "text": [
      "0.2\n",
      "[0.2, 0.2, 0.2, 0.2, 0.2]\n"
     ]
    }
   ],
   "source": [
    "q =[]\n",
    "n = 5\n",
    "for i in range(n):\n",
    "    q.append(1.0/n) # p is uniform distribution. \n",
    "print q"
   ]
  },
  {
   "cell_type": "code",
   "execution_count": 15,
   "metadata": {},
   "outputs": [
    {
     "name": "stdout",
     "output_type": "stream",
     "text": [
      "1.0\n"
     ]
    }
   ],
   "source": [
    "q =[]\n",
    "n = 5\n",
    "for i in range(n):\n",
    "    q.append(1.0/n) # p is uniform distribution. \n",
    "color =['g','r','r','g','g']\n",
    "for i in range(len(q)):\n",
    "    if(color[i] == 'g'):\n",
    "        q[i] = 0.2*q[i]\n",
    "    else:\n",
    "        q[i] = 0.6*q[i]\n",
    "sum_val = sum(q)\n",
    "# now normalize\n",
    "for i in range(len(q)):\n",
    "    q[i] = q[i]/sum_val\n",
    "print sum(q)"
   ]
  },
  {
   "cell_type": "code",
   "execution_count": 25,
   "metadata": {},
   "outputs": [
    {
     "name": "stdout",
     "output_type": "stream",
     "text": [
      "[0.04000000000000001, 0.12, 0.12, 0.04000000000000001, 0.04000000000000001]\n"
     ]
    }
   ],
   "source": [
    "p =[]\n",
    "n = 5\n",
    "color =['g','r','r','g','g']\n",
    "for i in range(n):\n",
    "    p.append(1./n)\n",
    "pHit = 0.6\n",
    "pMiss = 0.2\n",
    "for i in range(len(p)):\n",
    "    if(color[i] == 'r'):\n",
    "        p[i] = p[i]*pHit\n",
    "    else:\n",
    "        p[i] = p[i]*pMiss\n",
    "print p\n",
    "# now normalize\n",
    "sum_val = sum(p)\n",
    "print(sum_val)\n",
    "for i in range(n):\n",
    "    p[i] = p[i]/sum_val\n",
    "print p"
   ]
  },
  {
   "cell_type": "markdown",
   "metadata": {},
   "source": [
    "# Sense function definition"
   ]
  },
  {
   "cell_type": "code",
   "execution_count": 41,
   "metadata": {},
   "outputs": [
    {
     "name": "stdout",
     "output_type": "stream",
     "text": [
      "[0.20000000000000004, 0.19999999999999996, 0.19999999999999996, 0.20000000000000004, 0.20000000000000004]\n"
     ]
    }
   ],
   "source": [
    "p=[]\n",
    "n = 5\n",
    "for i in range(n):\n",
    "    p.append(1./n)\n",
    "world=['green', 'red', 'red', 'green', 'green']\n",
    "measurements = ['red', 'green']\n",
    "pHit = 0.6\n",
    "pMiss = 0.2\n",
    "\n",
    "def sense(p, Z):\n",
    "    q=[]\n",
    "    for i in range(len(p)):\n",
    "        hit = (Z == world[i])\n",
    "        q.append(p[i] * (hit * pHit + (1-hit) * pMiss))\n",
    "    s = sum(q)\n",
    "    for i in range(len(q)):\n",
    "        q[i] = q[i] / s\n",
    "    return q\n",
    "#\n",
    "#ADD YOUR CODE HERE\n",
    "#\n",
    "for measurement in measurements:\n",
    "    p = sense(p, measurement)\n",
    "    \n",
    "print p"
   ]
  },
  {
   "cell_type": "markdown",
   "metadata": {},
   "source": [
    "# Robot Movement with probabilities"
   ]
  },
  {
   "cell_type": "code",
   "execution_count": 49,
   "metadata": {},
   "outputs": [
    {
     "name": "stdout",
     "output_type": "stream",
     "text": [
      "0\n",
      "0\n",
      "1\n",
      "0\n",
      "0\n",
      "[0, 0, 1, 0, 0]\n"
     ]
    }
   ],
   "source": [
    "#Program a function that returns a new distribution \n",
    "#q, shifted to the right by U units. If U=0, q should \n",
    "#be the same as p.\n",
    "\n",
    "p=[0, 1, 0, 0, 0]\n",
    "world=['green', 'red', 'red', 'green', 'green']\n",
    "measurements = ['red', 'green']\n",
    "pHit = 0.6\n",
    "pMiss = 0.2\n",
    "\n",
    "def sense(p, Z):\n",
    "    q=[]\n",
    "    for i in range(len(p)):\n",
    "        hit = (Z == world[i])\n",
    "        q.append(p[i] * (hit * pHit + (1-hit) * pMiss))\n",
    "    s = sum(q)\n",
    "    for i in range(len(q)):\n",
    "        q[i] = q[i] / s\n",
    "    return q\n",
    "\n",
    "def move(p, U):\n",
    "    move_pos = 1\n",
    "    it = 0\n",
    "    curr = 1\n",
    "    prev = 0\n",
    "    temp = p[prev]\n",
    "    while(it < len(p)):\n",
    "        print p[prev]\n",
    "        temp1 = p[curr]\n",
    "        p[curr] = temp\n",
    "        temp = temp1\n",
    "        prev = curr\n",
    "        curr = (curr+1)%(len(p)-1)\n",
    "        it = it+1\n",
    "    return p\n",
    "\n",
    "print move(p, 1)"
   ]
  },
  {
   "cell_type": "markdown",
   "metadata": {},
   "source": [
    "# InExact move Funciton"
   ]
  },
  {
   "cell_type": "code",
   "execution_count": 70,
   "metadata": {},
   "outputs": [
    {
     "name": "stdout",
     "output_type": "stream",
     "text": [
      "[0.2000000000000035, 0.20000000000000365, 0.20000000000000373, 0.20000000000000365, 0.2000000000000035]\n"
     ]
    }
   ],
   "source": [
    "#Modify the move function to accommodate the added \n",
    "#probabilities of overshooting or undershooting \n",
    "#the intended destination.\n",
    "\n",
    "p=[0., 1, 0., 0., 0.]\n",
    "world=['green', 'red', 'red', 'green', 'green']\n",
    "measurements = ['red', 'green']\n",
    "pHit = 0.6\n",
    "pMiss = 0.2\n",
    "pExact = 0.8\n",
    "pOvershoot = 0.1\n",
    "pUndershoot = 0.1\n",
    "\n",
    "def sense(p, Z):\n",
    "    q=[]\n",
    "    for i in range(len(p)):\n",
    "        hit = (Z == world[i])\n",
    "        q.append(p[i] * (hit * pHit + (1-hit) * pMiss))\n",
    "    s = sum(q)\n",
    "    for i in range(len(q)):\n",
    "        q[i] = q[i] / s\n",
    "    return q\n",
    "\n",
    "def move(p, U):\n",
    "    q = []\n",
    "    for i in range(len(p)):\n",
    "        s = pExact * p[(i-U)%len(p)]\n",
    "        s = s + pOvershoot * p[(i-U-1) %len(p)]\n",
    "        s = s + pUndershoot * p[(i-U+1) % len(p)]\n",
    "        q.append(s)\n",
    "    return q\n",
    "res = move(p, 1)\n",
    "for i in range(1000):\n",
    "    res = move(res, 1)\n",
    "print res\n"
   ]
  },
  {
   "cell_type": "markdown",
   "metadata": {},
   "source": [
    "# Sense and Move"
   ]
  },
  {
   "cell_type": "code",
   "execution_count": 73,
   "metadata": {},
   "outputs": [
    {
     "name": "stdout",
     "output_type": "stream",
     "text": [
      "[0.07882352941176471, 0.07529411764705884, 0.22470588235294123, 0.4329411764705882, 0.18823529411764706]\n"
     ]
    }
   ],
   "source": [
    "#Given the list motions=[1,1] which means the robot \n",
    "#moves right and then right again, compute the posterior \n",
    "#distribution if the robot first senses red, then moves \n",
    "#right one, then senses green, then moves right again, \n",
    "#starting with a uniform prior distribution.\n",
    "\n",
    "p=[0.2, 0.2, 0.2, 0.2, 0.2] # 1. Belief\n",
    "world=['green', 'red', 'red', 'green', 'green']\n",
    "measurements = ['red', 'red']\n",
    "motions = [1,1]\n",
    "pHit = 0.6\n",
    "pMiss = 0.2\n",
    "pExact = 0.8\n",
    "pOvershoot = 0.1\n",
    "pUndershoot = 0.1\n",
    "\n",
    "def sense(p, Z):\n",
    "    q=[]\n",
    "    for i in range(len(p)): # 2. product of probability\n",
    "        hit = (Z == world[i])\n",
    "        q.append(p[i] * (hit * pHit + (1-hit) * pMiss))\n",
    "    s = sum(q)\n",
    "    for i in range(len(q)): # 3.  Normalization\n",
    "        q[i] = q[i] / s\n",
    "    return q\n",
    "\n",
    "def move(p, U):\n",
    "    q = []\n",
    "    # https://www.youtube.com/watch?time_continue=102&v=byZ-BzbQA5M&feature=emb_logo\n",
    "    for i in range(len(p)): # 4. Motion = convolution(Addition) Total probability\n",
    "        s = pExact * p[(i-U) % len(p)]\n",
    "        s = s + pOvershoot * p[(i-U-1) % len(p)]\n",
    "        s = s + pUndershoot * p[(i-U+1) % len(p)]\n",
    "        q.append(s)\n",
    "    return q\n",
    "#\n",
    "# ADD CODE HERE\n",
    "#\n",
    "for k in range(len(measurements)):\n",
    "    p = sense(p, measurements[k])\n",
    "    p = move(p, motions[k])\n",
    "    \n",
    "print p         \n"
   ]
  },
  {
   "attachments": {
    "image.png": {
     "image/png": "[encoded data removed]"
    }
   },
   "cell_type": "markdown",
   "metadata": {},
   "source": [
    "Entropy\n",
    "![image.png](attachment:image.png)\n"
   ]
  },
  {
   "cell_type": "markdown",
   "metadata": {},
   "source": [
    "# Bayes Rule\n",
    "X = grid cell Z = measurments\n",
    "P(X/Z) = P(Z/X)*P(Xi) / P(Z)\n",
    "\n",
    "Bayes Rule: https://www.youtube.com/watch?time_continue=3&v=sA5wv56qYc0&feature=emb_logo\n",
    "\n",
    "Bayes Rule Quiz https://www.youtube.com/watch?v=SZ6Jg1wS604&feature=emb_logo\n",
    "\n",
    "Bayes rule answer https://www.youtube.com/watch?v=OgC5M2XdIac&feature=emb_logo\n",
    "\n",
    "Total probability https://www.youtube.com/watch?time_continue=102&v=byZ-BzbQA5M&feature=emb_logo"
   ]
  },
  {
   "cell_type": "code",
   "execution_count": 79,
   "metadata": {},
   "outputs": [
    {
     "name": "stdout",
     "output_type": "stream",
     "text": [
      "0.00794438927507\n"
     ]
    }
   ],
   "source": [
    "# There are hundred people\n",
    "# 1. The probability a person is having cancer is pC = 0.001\n",
    "# 2. The probability a person don'thave cancer is pNC = 0.999\n",
    "# 3. The probability a person is psotivie given cancer P(POS/C) = 0.8\n",
    "# 4. The probability a person is positive given Not Cancer P(POS/NC) = 0.1\n",
    "pC = 0.001 # pC = 0.001\n",
    "pNC = 0.999 #  pNC = 0.999\n",
    "P_POS_C = 0.8 # P(POS/C) = 0.8\n",
    "P_POS_NC = 0.1 # P(POS/NC) = 0.1\n",
    "\n",
    "# what is P_C_POS\n",
    "# The probability that a person is positive given positive resul\n",
    "P_POS_C1 = pC*P_POS_C\n",
    "# The probability that aperson is positive given that poistive but not cancer\n",
    "P_POS_C2 = pNC*P_POS_NC\n",
    "\n",
    "# normalization\n",
    "P_Z = P_POS_C1 + P_POS_C2\n",
    "\n",
    "# The probability that a person is cancer given positive\n",
    "P_C_POS = P_POS_C1/P_Z\n",
    "print P_C_POS\n",
    "\n"
   ]
  },
  {
   "cell_type": "markdown",
   "metadata": {},
   "source": [
    "# Total Probability\n",
    "Total Probabiliy: https://www.youtube.com/watch?time_continue=102&v=byZ-BzbQA5M&feature=emb_logo\n",
    "\n",
    "Quiz 1 Total Probability: https://www.youtube.com/watch?time_continue=31&v=hzDsYZ61D5M&feature=emb_logo\n",
    "\n",
    "Answer: https://www.youtube.com/watch?time_continue=28&v=ASUXN9Ay35M&feature=emb_logo\n",
    "\n",
    "Quiz2 Total Probability: https://www.youtube.com/watch?v=2PZHPjyYnMg&feature=emb_logo\n",
    "\n",
    "Answer : https://www.youtube.com/watch?time_continue=1&v=_AhoOd8YUK0&feature=emb_logo\n",
    "\n"
   ]
  },
  {
   "cell_type": "code",
   "execution_count": 86,
   "metadata": {},
   "outputs": [
    {
     "name": "stdout",
     "output_type": "stream",
     "text": [
      "0.991071428571\n"
     ]
    }
   ],
   "source": [
    "print(0.0999/(0.1*0.999+0.9*0.001))"
   ]
  }
 ],
 "metadata": {
  "kernelspec": {
   "display_name": "Python 2",
   "language": "python",
   "name": "python2"
  },
  "language_info": {
   "codemirror_mode": {
    "name": "ipython",
    "version": 2
   },
   "file_extension": ".py",
   "mimetype": "text/x-python",
   "name": "python",
   "nbconvert_exporter": "python",
   "pygments_lexer": "ipython2",
   "version": "2.7.17"
  }
 },
 "nbformat": 4,
 "nbformat_minor": 2
}
