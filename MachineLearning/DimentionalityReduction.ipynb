{
 "cells": [
  {
   "cell_type": "markdown",
   "metadata": {},
   "source": [
    "## What is Dimentionality Reduction\n",
    "1. Reducing the number of features\n",
    "2. Extracting the useful features that add more information\n",
    "3. Feature selection also can be used to achieve dimentionality reduction"
   ]
  },
  {
   "cell_type": "markdown",
   "metadata": {},
   "source": [
    "## Feature selection\n",
    "The feature selection approach tries to find the subset of input variables. The three strategies are\n",
    "1. The filter strategy ex Information gain\n",
    "2. The wrapper strategy ex search guided by accuracy and\n",
    "3. The Embedded strategy ex selected features added or removed while building the model based on prediction errors. \n"
   ]
  },
  {
   "cell_type": "code",
   "execution_count": null,
   "metadata": {},
   "outputs": [],
   "source": []
  }
 ],
 "metadata": {
  "kernelspec": {
   "display_name": "Python 3",
   "language": "python",
   "name": "python3"
  },
  "language_info": {
   "codemirror_mode": {
    "name": "ipython",
    "version": 3
   },
   "file_extension": ".py",
   "mimetype": "text/x-python",
   "name": "python",
   "nbconvert_exporter": "python",
   "pygments_lexer": "ipython3",
   "version": "3.7.4"
  }
 },
 "nbformat": 4,
 "nbformat_minor": 2
}
